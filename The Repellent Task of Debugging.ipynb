{
 "cells": [
  {
   "cell_type": "markdown",
   "metadata": {},
   "source": [
    "# <center>The Repellent Task of Debugging</center>"
   ]
  },
  {
   "cell_type": "markdown",
   "metadata": {},
   "source": [
    "This past week, I participated in a data competition at Lambda School. It wasn't a surprise it was a learning experience, But, the sheer amount of learning that took place shocked me!  Rather new to the data science field, I find myself making plenty of mistakes. This experience was no different. \n",
    "\n",
    "Most of my missteps were bugs in my code. Finding the sizeable bugs was relatively painless. Though my error messages showed the approximate location where I went awry, discovering the small errors was especially time consuming and frustrating. What I did with that frustration is the difference between success and failure.\n",
    "\n",
    "Below is a code snippet from the competition. Take a quick glance. We'll refer back to it a bit later."
   ]
  },
  {
   "cell_type": "markdown",
   "metadata": {},
   "source": [
    "```python\n",
    "X = new_features.select_dtypes('number')\n",
    "X = X.drop('id', axis=1)\n",
    "X.shape\n",
    "\n",
    "min_max_scaler = preprocessing.MinMaxScaler()\n",
    "X = min_max_scaler.fit_transform(X)\n",
    "y = train_labels.drop(columns='id')\n",
    "\n",
    "X_train, X_test, y_train, y_test = train_test_split(\n",
    "        X, y, train_size=0.75, test_size=0.25, random_state=42, shuffle=True)\n",
    "    \n",
    "X_train.shape, X_test.shape, y_train.shape, y_test.shape\n",
    "\n",
    "log_reg = LogisticRegression()\n",
    "log_reg.fit(X_train,y_train)\n",
    "y_pred = log_reg.predict(X_train)\n",
    "accuracy_score(y_train,y_pred)\n",
    "```"
   ]
  },
  {
   "cell_type": "markdown",
   "metadata": {},
   "source": [
    "---"
   ]
  },
  {
   "cell_type": "markdown",
   "metadata": {},
   "source": [
    ">SO YOU'VE finally finished your article. You've labored\n",
    ">over this writing. You've lamented about what wording you should use and what order in which to write those\n",
    ">words. You examined your work thoroughly leaving no sentence or word neglected. After a comprehensive and\n",
    ">exhaustive search, you are finally ready to publish. You are categorically certain not a single error missed\n",
    ">your sight. You have finally finished. Voila! \n",
    "\n",
    ">You are so proud of yourself, you give yourself a pat on the back. Your friends and co-workers are the\n",
    ">first to read it and where are their eyes drawn? The mistake you made in the first sentence of the\n",
    ">second paragraph. How did you possibly miss that? “To understand happiness, you frist need to know waht\n",
    ">pain feels like”. frist… waht?\n",
    "\n",
    ">You are dumbfounded! You feel two-inches tall and can’t explain how an intelligent individual like yourself\n",
    ">managed to miss such basic errors. The truth is, you don't lack intelligence at all. Writing is actually an\n",
    ">intellectually advanced activity. When you read your own work, your brain played tricks you. You stop seeing letters\n",
    ">and words as they appear on the page and start seeing them as what you intended to write. It's always better to\n",
    ">have someone else proofread your work for you."
   ]
  },
  {
   "cell_type": "markdown",
   "metadata": {},
   "source": [
    "---"
   ]
  },
  {
   "cell_type": "markdown",
   "metadata": {},
   "source": [
    "What exactly does this have to do with debugging? As a matter of fact, debugging really works the same way. But, if you make a mistake when you're coding, you will be alerted when you attempt to run the code. That should make it less painful to correct right? Not necessarily. **How about you just don't write bugs?** "
   ]
  },
  {
   "cell_type": "markdown",
   "metadata": {},
   "source": [
    "**How about you just don't write bugs?** If you were perfect, you wouldn't be human. **Don't Write\n",
    "Bugs** is the very opposite of to learning how to debug. There aren't rigid rules or skills you can\n",
    "attain to learn how to debug. It's an acquired skill. One that is only realized given time and\n",
    "experience struggling through new material. The upside: You probably won't grapple the next time\n",
    "around."
   ]
  },
  {
   "cell_type": "markdown",
   "metadata": {},
   "source": [
    "<center>A past Project Manager shared with me a time he allowed himself to get intensely frustrated. Unfortunately, he allowed that frustration to get the better of him and hit his screen out of frustration. His screen broke which probably didn't help his state of mind. I'm sure the relief was temporary.</center>"
   ]
  },
  {
   "cell_type": "markdown",
   "metadata": {},
   "source": [
    "![Breaking the computer](Fist_through_computer.jpg)"
   ]
  },
  {
   "cell_type": "markdown",
   "metadata": {},
   "source": [
    "### <center>Without frustration there can be no elation.</center>"
   ]
  },
  {
   "cell_type": "markdown",
   "metadata": {},
   "source": [
    "Getting frustrated, though unpleasant, is not bad. Learn to live with frustration. Frustration\n",
    "manifests when you are being held back from something by self-imposed barriers and limitations. The initial frustration overload doesn't last long. You just need to tough it out."
   ]
  },
  {
   "cell_type": "markdown",
   "metadata": {},
   "source": [
    "It can take multiple days to track down a horrendous bug. It's rotten when it takes an eternity to find one. However, actually **DISCOVERING** that bug is tremendously gratifying. You'll want to get up and do a touchdown dance. You'll be on a high, possibly for hours. It is an awesome feeling when you've been banging your head against a wall, spending an enormous amount of time making no progress, and suddenly having that eureka moment where everything just seems so simple. Better than avoiding the frustration, learn to manage it in a constructive way. Find gratification in your frustration. It shows you are learning, or is at least a crucial part of the process."
   ]
  },
  {
   "cell_type": "markdown",
   "metadata": {},
   "source": [
    "![Dealing with frustration](dealing_with_frustration.jpeg)"
   ]
  },
  {
   "cell_type": "markdown",
   "metadata": {},
   "source": [
    "### Dealing with frustration."
   ]
  },
  {
   "cell_type": "markdown",
   "metadata": {},
   "source": [
    "Don't have unreasonable expectations for yourself. You can view the learning curve for programming like a S-Curve or Sigmoid function. The improvement of proficiency starts slowly, increases rapidly, and then levels out. There is an infinite amount of knowledge to acquire. In this ever evolving world, technology changes so rapidly, learning is vital to stay current.\n",
    "\n",
    "Debugging can be annoying. This is especially true if you are making little progress. Perseverance is an essential characteristic when debugging. It is distressing if you're just banging your head against a wall while not making any progress. View it as a challenge rather than being tortured.\n",
    "\n",
    "It is important to realize all people encounter these challenges. Do not expect to finish a project without some bumps in the road. Consult your resources. Don't hesitate to use online sources. Ask for help. Many individuals encounter 'a brick wall' in a project. Use your motivation to get past that wall. Some days it may seem you've accomplish very little, other days you may make incredible progress.\n",
    "\n",
    "It is crucial you learn to recognize the moment you get frustrated. Frustration isn't a switch you turn on and off. It builds over time. Be mindful of how you are feeling so your frustration doesn't go so far you become ready to punch your computer.\n",
    "\n",
    "Rather than punching your computer or stomping out of the office, realize what's actually frustrating you. Of course, stomping out of the room may be the very best course of action. Taking a break and distracting your mind is a fantastic remedy for frustration. Try to identify what is frustrating you. Not finding an error can be daunting but your frustration doesn't come directly from that.\n",
    "\n",
    "Gaining clarity will provide insight into how you are approaching the problem you are stuck on. Ask yourself if you need to change your approach to solving this puzzle. With a clear outlook, you will be able to change your perspective. Try to see your frustration as a challenge to improve. Look back at where you were and how far you've come. Your struggle is not in vain. It gives you an opportunity to learn valuable lessons.\n",
    "\n",
    "Nobody likes to feel frustrated. However, frustration is a part of life. Learn to manage your frustrations so they don’t leave you stressed, burned-out or depressed. Take breaks from your frustrations to recover your mental and creative energies. Over time, you will find debugging becomes easier. You'll start to recognize various classes of bugs. And, as your methods improve, you will generate fewer bugs in your code. "
   ]
  },
  {
   "cell_type": "markdown",
   "metadata": {},
   "source": [
    "### How do we approach debugging?"
   ]
  },
  {
   "cell_type": "markdown",
   "metadata": {},
   "source": [
    "Below is a list of suggestions. It is not exhaustive but it can provide a great start.\n",
    "-  We are all taught to see the big picture. Having a goal seemingly too large and unreachable \n",
    "   creates frustration.\n",
    "-  Avoid large, mysterious, broken code-blocks.\n",
    "-  It's difficult to examine a large section of code. Break it in bite size pieces.\n",
    "-  Deal with problems one step at a time.\n",
    "-  Check if everything is working as expected or not.\n",
    "-  You can use print statements to check this, or an actual debugger.\n",
    "-  Eventually you'll find the piece of code that's not working. You can examine it more closely and\n",
    "   determine what's wrong.\n",
    "-  Treat each step as a victory.\n",
    "-  Don't overthink it. You'll get overwhelmed.\n",
    "-  Don't assume that a counter is being incremented.\n",
    "-  Don't assume you've allocated enough memory.\n",
    "-  Don't assume a pointer is actually pointing to something actually there.\n",
    "-  Start testing your code.\n",
    "-  Don't assume the problem is complicated. Look for the simplest thing.\n",
    "-  **If you're baffled, ask for help.** It shows strength not weakness. \n",
    "-  Debugging is problem solving. It's not generally taught in schools. It requires a great deal of\n",
    "   energy."
   ]
  },
  {
   "cell_type": "markdown",
   "metadata": {},
   "source": [
    "Now, referring back to the code you glanced at above. That code works perfectly but I keep getting an error here. What did I do wrong? \n",
    "\n",
    "```python\n",
    "# Logistic Regression Model\n",
    "y_pred = logreg.predict(X_test_data)\n",
    "prediction_df = pd.DataFrame(y_pred)\n",
    "identities = pd.DataFrame(X_test_features['id'])\n",
    "print(identities.shape)\n",
    "test_first_pass = identities.join(prediction_df)\n",
    "test_first_pass.rename(columns={0: 'status_group'}, inplace=True)\n",
    "```"
   ]
  },
  {
   "cell_type": "markdown",
   "metadata": {},
   "source": [
    "Did you complicate the problem? This is a bite size piece of code. That doesn't mean you shouldn't step through it methodically. Did you find the error?\n",
    "\n",
    "Since starting Lambda School, debugging has caused me great frustration. Writing this reminded me to keep my brain in check and remember I'm not the only one out there dealing with this problem. Comparing myself to others in the cohort is not productive. We all started Lambda School at different places and our pace through the program will vary widely. I'll keep my head level, will you?"
   ]
  },
  {
   "cell_type": "markdown",
   "metadata": {},
   "source": [
    "![Pair Programming](pair_programming.jpeg)"
   ]
  }
 ],
 "metadata": {
  "kernelspec": {
   "display_name": "Python 3",
   "language": "python",
   "name": "python3"
  },
  "language_info": {
   "codemirror_mode": {
    "name": "ipython",
    "version": 3
   },
   "file_extension": ".py",
   "mimetype": "text/x-python",
   "name": "python",
   "nbconvert_exporter": "python",
   "pygments_lexer": "ipython3",
   "version": "3.6.6"
  }
 },
 "nbformat": 4,
 "nbformat_minor": 2
}
