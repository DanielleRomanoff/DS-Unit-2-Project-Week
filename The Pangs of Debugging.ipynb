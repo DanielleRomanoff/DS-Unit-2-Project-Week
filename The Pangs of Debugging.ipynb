{
 "cells": [
  {
   "cell_type": "markdown",
   "metadata": {},
   "source": [
    "# <center>The Pangs of Debugging</center>"
   ]
  },
  {
   "cell_type": "markdown",
   "metadata": {},
   "source": [
    ">SO YOU'VE finally finished your paper. Maybe an article. Possibly your resume or cover letter. You've labored\n",
    ">over this writing. You've lamented about what wording you should use and what order in which to write those\n",
    ">words. You examine your work thoroughly leaving no sentence or word neglected. After a comprehensive and\n",
    ">exhaustive search, you are finally ready to publish. You are categorically certain not a single error missed\n",
    ">your sight. Voila! You have finally finished. In fact, you are so proud of yourself, you give yourself a pat on\n",
    ">the back. Your friends and co-workers are the first to read it and where are their eyes drawn? The mistake made\n",
    ">in the first sentence of the second paragraph. How did you possibly miss that? “To understand happiness, you\n",
    ">frist need to know waht pain feels like”. frist… waht?\n",
    "\n",
    ">You are dumbfounded! You feel two-inches tall and can’t explain how an intelligent individual like yourself\n",
    ">managed to miss such basic errors. The truth is, you don't lack intelligence at all. Writing is actually an\n",
    ">intellectually advanced activity. When you read your own work, your brain tricks you. You stop seeing letters\n",
    ">and words as they appear on the page and start seeing them as what you intended to write. It's always better to\n",
    ">have someone else proofread your work for you."
   ]
  },
  {
   "cell_type": "markdown",
   "metadata": {},
   "source": [
    ">What exactly does this have to do with debugging? As a matter of fact, debugging really works the same way. But,\n",
    ">if you make a mistake when you're coding, you will be alerted when you attempt to run the code. That should make it\n",
    ">less painful to correct right? Not necessarily. **How about you just don't write bugs?** Below is a\n",
    ">code snippet. Take a quick glance. We'll refer back to it a bit later."
   ]
  },
  {
   "cell_type": "markdown",
   "metadata": {},
   "source": [
    "![Code Snippet](Correct_Code_Snippet.png)"
   ]
  },
  {
   "cell_type": "markdown",
   "metadata": {},
   "source": [
    ">**How about you just don't write bugs?** If you were perfect, you wouldn't be human. **Don't Write\n",
    ">Bugs** is the very opposite of to learning how to debug. There aren't rigid rules or skills you can\n",
    ">attain to learn how to debug. It's an acquired skill. One that is only realized given time and\n",
    ">experience struggling through new material. The upside: You probably won't grapple the next time\n",
    ">around."
   ]
  },
  {
   "cell_type": "markdown",
   "metadata": {},
   "source": [
    "![Coding Frustration](Man_throwing_computer.png)"
   ]
  },
  {
   "cell_type": "markdown",
   "metadata": {},
   "source": [
    ">Have you ever wanted to throw your computer in a lake? \n"
   ]
  }
 ],
 "metadata": {
  "kernelspec": {
   "display_name": "Python 3",
   "language": "python",
   "name": "python3"
  },
  "language_info": {
   "codemirror_mode": {
    "name": "ipython",
    "version": 3
   },
   "file_extension": ".py",
   "mimetype": "text/x-python",
   "name": "python",
   "nbconvert_exporter": "python",
   "pygments_lexer": "ipython3",
   "version": "3.6.6"
  }
 },
 "nbformat": 4,
 "nbformat_minor": 2
}
